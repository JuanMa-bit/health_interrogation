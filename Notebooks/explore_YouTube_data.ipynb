{
 "cells": [
  {
   "cell_type": "markdown",
   "metadata": {},
   "source": [
    "## Extraer preguntas de contenido de You Tube"
   ]
  },
  {
   "cell_type": "code",
   "execution_count": 73,
   "metadata": {},
   "outputs": [
    {
     "name": "stderr",
     "output_type": "stream",
     "text": [
      "/opt/homebrew/Cellar/python@3.11/3.11.8/Frameworks/Python.framework/Versions/3.11/lib/python3.11/re/_parser.py:461: RuntimeWarning: coroutine 'BaseExtractor.aprocess_nodes' was never awaited\n",
      "  sourcematch = source.match\n",
      "RuntimeWarning: Enable tracemalloc to get the object allocation traceback\n"
     ]
    }
   ],
   "source": [
    "import os\n",
    "from llama_index.core.evaluation import DatasetGenerator, RelevancyEvaluator\n",
    "from llama_index.core import VectorStoreIndex, SimpleDirectoryReader\n",
    "from llama_index.core import VectorStoreIndex\n",
    "from llama_index.llms.gradient import GradientBaseModelLLM\n",
    "from llama_index.embeddings.gradient import GradientEmbedding\n",
    "from llama_index.core import set_global_service_context\n",
    "from llama_index.core import ServiceContext\n",
    "import pandas as pd\n",
    "import json\n",
    "from tqdm import tqdm\n",
    "from llama_index.extractors.entity import EntityExtractor\n",
    "from llama_index.core.node_parser import SentenceSplitter\n",
    "from llama_index.core.ingestion import IngestionPipeline\n",
    "import pickle\n",
    "import matplotlib.pyplot as plt\n",
    "from collections import Counter\n"
   ]
  },
  {
   "cell_type": "code",
   "execution_count": 2,
   "metadata": {},
   "outputs": [],
   "source": [
    "with open(\"/Users/jucampo/Desktop/Ideas/youtube_audios/credentials.json\",\"r\") as credentials:\n",
    "    credentials_dict = json.load(credentials)\n",
    "os.environ[\"OPENAI_API_KEY\"] = credentials_dict['open_ai']\n",
    "os.environ['GRADIENT_ACCESS_TOKEN'] = credentials_dict['gradient']\n",
    "os.environ['GRADIENT_WORKSPACE_ID'] =  credentials_dict['gradient_id']"
   ]
  },
  {
   "cell_type": "code",
   "execution_count": 3,
   "metadata": {},
   "outputs": [],
   "source": [
    "llm = GradientBaseModelLLM(\n",
    "    base_model_slug=\"llama2-7b-chat\",\n",
    "    max_tokens=400,\n",
    ")"
   ]
  },
  {
   "cell_type": "code",
   "execution_count": 4,
   "metadata": {},
   "outputs": [],
   "source": [
    "embed_model = GradientEmbedding(\n",
    "    gradient_access_token = os.environ[\"GRADIENT_ACCESS_TOKEN\"],\n",
    "    gradient_workspace_id = os.environ[\"GRADIENT_WORKSPACE_ID\"],\n",
    "    gradient_model_slug=\"bge-large\",\n",
    ")"
   ]
  },
  {
   "cell_type": "code",
   "execution_count": 5,
   "metadata": {},
   "outputs": [
    {
     "name": "stderr",
     "output_type": "stream",
     "text": [
      "/var/folders/hs/vf4ldkdn15n5w_5y8gj10s0h37drkd/T/ipykernel_70817/3337229202.py:1: DeprecationWarning: Call to deprecated class method from_defaults. (ServiceContext is deprecated, please use `llama_index.settings.Settings` instead.) -- Deprecated since version 0.10.0.\n",
      "  service_context = ServiceContext.from_defaults(\n"
     ]
    }
   ],
   "source": [
    "service_context = ServiceContext.from_defaults(\n",
    "    llm = llm,\n",
    "    embed_model = embed_model,\n",
    "    chunk_size=256,\n",
    ")\n",
    "\n",
    "set_global_service_context(service_context)"
   ]
  },
  {
   "cell_type": "code",
   "execution_count": 7,
   "metadata": {},
   "outputs": [
    {
     "name": "stdout",
     "output_type": "stream",
     "text": [
      "Loaded 48 document(s).\n"
     ]
    }
   ],
   "source": [
    "documents = SimpleDirectoryReader(\"/Users/jucampo/Desktop/Ideas/my_env/video_to_text/youTube_text\").load_data()\n",
    "print(f\"Loaded {len(documents)} document(s).\")"
   ]
  },
  {
   "cell_type": "code",
   "execution_count": 8,
   "metadata": {},
   "outputs": [],
   "source": [
    "index = VectorStoreIndex.from_documents(documents,\n",
    "                                        service_context=service_context)\n",
    "query_engine = index.as_query_engine()"
   ]
  },
  {
   "cell_type": "code",
   "execution_count": 82,
   "metadata": {},
   "outputs": [],
   "source": [
    "question1 = 'sabiendo que este documento trata sobre la reforma de salud en colombia,que preguntas se abordan en el \"contenido '\n",
    "question2 = 'Puedes decirme los nombres y cargos de las personas en el texto del \"contenido 0\" especificamente'"
   ]
  },
  {
   "cell_type": "code",
   "execution_count": 84,
   "metadata": {},
   "outputs": [],
   "source": [
    "l_answers = []\n",
    "for i in range(17):\n",
    "    response = query_engine.query(question1+str(i))\n",
    "    answer1 = str(response.response)\n",
    "    l_answers.append(answer1)"
   ]
  },
  {
   "cell_type": "code",
   "execution_count": 139,
   "metadata": {},
   "outputs": [
    {
     "name": "stdout",
     "output_type": "stream",
     "text": [
      "1. How does the current system of healthcare in Colombia work?\n",
      "2. What are the challenges faced by the system, such as inefficiencies and lack of resources?\n",
      "3. How does the proposed reform aim to address these challenges and improve the system?\n",
      "4. What is the role of the government in implementing the reform?\n",
      "5. How will the reform impact the cost of healthcare in Colombia?\n",
      "6. What are the potential risks and challenges associated with the reform?\n",
      "7. How can the reform be successfully implemented and sustained over time?\n",
      "\n",
      "In light of the new context, the refined answer to the query \"What questions are addressed in Contenido 16 of the document\n"
     ]
    }
   ],
   "source": [
    "idx=16\n",
    "idx_ini = l_answers[idx].find(\"1. \")\n",
    "idx_end = l_answers[idx].rfind(\"?\")\n",
    "for sub_answer in l_answers[idx][idx_ini:idx_end].split(\"\\n\"):\n",
    "    print(sub_answer)"
   ]
  },
  {
   "cell_type": "code",
   "execution_count": 90,
   "metadata": {},
   "outputs": [],
   "source": []
  },
  {
   "cell_type": "code",
   "execution_count": 118,
   "metadata": {},
   "outputs": [],
   "source": [
    "df_questions = pd.DataFrame()\n",
    "l_answer_clean = []\n",
    "idx_ = []\n",
    "for j in range(17):\n",
    "    idx_ini = l_answers[j].find(\"1. \")\n",
    "    idx_end = l_answers[j].rfind(\"?\")\n",
    "    for sub_answer in l_answers[j][idx_ini:idx_end].split(\"\\n\"):\n",
    "        l_answer_clean.append(sub_answer[2:]) \n",
    "        idx_.append(j)\n",
    "df_questions[\"idx_q\"]=idx_\n",
    "df_questions[\"question\"]=l_answer_clean"
   ]
  },
  {
   "cell_type": "code",
   "execution_count": 119,
   "metadata": {},
   "outputs": [
    {
     "data": {
      "text/plain": [
       "106"
      ]
     },
     "execution_count": 119,
     "metadata": {},
     "output_type": "execute_result"
    }
   ],
   "source": [
    "df_questions[\"question\"].nunique()"
   ]
  },
  {
   "cell_type": "code",
   "execution_count": 120,
   "metadata": {},
   "outputs": [
    {
     "data": {
      "text/html": [
       "<div>\n",
       "<style scoped>\n",
       "    .dataframe tbody tr th:only-of-type {\n",
       "        vertical-align: middle;\n",
       "    }\n",
       "\n",
       "    .dataframe tbody tr th {\n",
       "        vertical-align: top;\n",
       "    }\n",
       "\n",
       "    .dataframe thead th {\n",
       "        text-align: right;\n",
       "    }\n",
       "</style>\n",
       "<table border=\"1\" class=\"dataframe\">\n",
       "  <thead>\n",
       "    <tr style=\"text-align: right;\">\n",
       "      <th></th>\n",
       "      <th>idx_q</th>\n",
       "      <th>question</th>\n",
       "    </tr>\n",
       "  </thead>\n",
       "  <tbody>\n",
       "    <tr>\n",
       "      <th>0</th>\n",
       "      <td>0</td>\n",
       "      <td>How will the reform address the disparities i...</td>\n",
       "    </tr>\n",
       "    <tr>\n",
       "      <th>1</th>\n",
       "      <td>0</td>\n",
       "      <td>. What specific measures will be implemented t...</td>\n",
       "    </tr>\n",
       "    <tr>\n",
       "      <th>2</th>\n",
       "      <td>0</td>\n",
       "      <td>. How will the government measure the success ...</td>\n",
       "    </tr>\n",
       "    <tr>\n",
       "      <th>3</th>\n",
       "      <td>0</td>\n",
       "      <td></td>\n",
       "    </tr>\n",
       "    <tr>\n",
       "      <th>4</th>\n",
       "      <td>0</td>\n",
       "      <td>re is the updated list of questions that are l...</td>\n",
       "    </tr>\n",
       "    <tr>\n",
       "      <th>...</th>\n",
       "      <td>...</td>\n",
       "      <td>...</td>\n",
       "    </tr>\n",
       "    <tr>\n",
       "      <th>110</th>\n",
       "      <td>16</td>\n",
       "      <td>How will the reform impact the cost of health...</td>\n",
       "    </tr>\n",
       "    <tr>\n",
       "      <th>111</th>\n",
       "      <td>16</td>\n",
       "      <td>What are the potential risks and challenges a...</td>\n",
       "    </tr>\n",
       "    <tr>\n",
       "      <th>112</th>\n",
       "      <td>16</td>\n",
       "      <td>How can the reform be successfully implemente...</td>\n",
       "    </tr>\n",
       "    <tr>\n",
       "      <th>113</th>\n",
       "      <td>16</td>\n",
       "      <td></td>\n",
       "    </tr>\n",
       "    <tr>\n",
       "      <th>114</th>\n",
       "      <td>16</td>\n",
       "      <td>light of the new context, the refined answer ...</td>\n",
       "    </tr>\n",
       "  </tbody>\n",
       "</table>\n",
       "<p>115 rows × 2 columns</p>\n",
       "</div>"
      ],
      "text/plain": [
       "     idx_q                                           question\n",
       "0        0   How will the reform address the disparities i...\n",
       "1        0  . What specific measures will be implemented t...\n",
       "2        0  . How will the government measure the success ...\n",
       "3        0                                                   \n",
       "4        0  re is the updated list of questions that are l...\n",
       "..     ...                                                ...\n",
       "110     16   How will the reform impact the cost of health...\n",
       "111     16   What are the potential risks and challenges a...\n",
       "112     16   How can the reform be successfully implemente...\n",
       "113     16                                                   \n",
       "114     16   light of the new context, the refined answer ...\n",
       "\n",
       "[115 rows x 2 columns]"
      ]
     },
     "execution_count": 120,
     "metadata": {},
     "output_type": "execute_result"
    }
   ],
   "source": [
    "df_questions.dropna()"
   ]
  },
  {
   "cell_type": "code",
   "execution_count": 121,
   "metadata": {},
   "outputs": [],
   "source": [
    "df_questions.to_csv(\"question_from_videos.csv\")"
   ]
  },
  {
   "cell_type": "code",
   "execution_count": 83,
   "metadata": {},
   "outputs": [
    {
     "name": "stdout",
     "output_type": "stream",
     "text": [
      " Based on the additional context provided, it appears that the 'content 2' section of the document is discussing the potential challenges and obstacles to implementing the government's proposal for health reform in Colombia. The section may be addressing questions such as:\n",
      "\n",
      "1. How will the government overcome the political and economic challenges to implementing the reform?\n",
      "2. What are the potential risks and unintended consequences of the reform, and how can they be mitigated?\n",
      "3. How will the government ensure that the reform is sustainable and long-lasting, despite potential short-term challenges?\n",
      "4. What are the potential impacts of the reform on marginalized communities, and how can they be addressed?\n",
      "5. How will the government measure the success of the reform, and what metrics will be used to evaluate its effectiveness?\n",
      "\n",
      "These questions are likely being addressed in the 'content 2' section of the document through a combination of textual analysis, data visualization, and expert opinions.\n"
     ]
    }
   ],
   "source": [
    "response = query_engine.query(question1+str(2))\n",
    "answer1 = str(response.response)\n",
    "for sub_answer in answer1.split(\"\\n\"):\n",
    "    print(sub_answer)"
   ]
  },
  {
   "cell_type": "code",
   "execution_count": 41,
   "metadata": {},
   "outputs": [
    {
     "name": "stdout",
     "output_type": "stream",
     "text": [
      " Based on the additional context provided, it is still not possible to identify any specific names or positions of individuals mentioned in the \"contenido 0\" section of the text. The section continues to discuss the potential consequences of the transition of patients from one EPS to another, without providing any information that could help identify specific individuals.\n",
      "\n",
      "Therefore, the original answer remains unchanged: Based on the context information provided, there are no specific names or positions of individuals mentioned in the \"contenido 0\" section of the text.\n"
     ]
    }
   ],
   "source": [
    "response = query_engine.query(question2)\n",
    "answer = str(response.response)\n",
    "for sub_answer in answer.split(\"\\n\"):\n",
    "    print(sub_answer)"
   ]
  },
  {
   "cell_type": "code",
   "execution_count": 51,
   "metadata": {},
   "outputs": [],
   "source": [
    "with open('/Users/jucampo/Desktop/Ideas/my_env/metadata.pkl', 'rb') as archivo:\n",
    "    # Cargar el objeto desde el archivo\n",
    "    entuty_recog = pickle.load(archivo)"
   ]
  },
  {
   "cell_type": "code",
   "execution_count": 59,
   "metadata": {},
   "outputs": [
    {
     "data": {
      "text/plain": [
       "93"
      ]
     },
     "execution_count": 59,
     "metadata": {},
     "output_type": "execute_result"
    }
   ],
   "source": [
    "len(entuty_recog)"
   ]
  },
  {
   "cell_type": "code",
   "execution_count": 72,
   "metadata": {},
   "outputs": [
    {
     "name": "stderr",
     "output_type": "stream",
     "text": [
      "100%|██████████| 93/93 [00:00<00:00, 414968.37it/s]\n"
     ]
    }
   ],
   "source": [
    "l_entities = []\n",
    "for i in tqdm(range(len(entuty_recog))):\n",
    "    dict_data = entuty_recog[i].metadata\n",
    "    if \"entities\" in dict_data.keys():\n",
    "        l_entities = l_entities+dict_data[\"entities\"]"
   ]
  },
  {
   "cell_type": "code",
   "execution_count": 78,
   "metadata": {},
   "outputs": [],
   "source": [
    "def graficar_frecuencia_palabras(lista_palabras, k=1):\n",
    "    # Contar la frecuencia de las palabras\n",
    "    contador_palabras = Counter(lista_palabras)\n",
    "\n",
    "    # Filtrar palabras que se repiten más de k veces\n",
    "    contador_filtrado = {palabra: frecuencia for palabra, frecuencia in contador_palabras.items() if frecuencia > k}\n",
    "    contador_total = {palabra: frecuencia for palabra, frecuencia in contador_palabras.items()}\n",
    "\n",
    "    # Obtener palabras y frecuencias para graficar\n",
    "    palabras = list(contador_filtrado.keys())\n",
    "    frecuencias = list(contador_filtrado.values())\n",
    "\n",
    "    # Crear la gráfica de barras\n",
    "    plt.figure(figsize=(10, 6))\n",
    "    plt.bar(palabras, frecuencias, color='skyblue')\n",
    "    plt.xlabel('Palabra')\n",
    "    plt.ylabel('Frecuencia')\n",
    "    plt.title('Frecuencia de Palabras')\n",
    "    plt.xticks(rotation=45, ha='right')\n",
    "    plt.tight_layout()\n",
    "\n",
    "    # Mostrar la gráfica\n",
    "    plt.show()\n",
    "    return contador_total"
   ]
  },
  {
   "cell_type": "code",
   "execution_count": 79,
   "metadata": {},
   "outputs": [
    {
     "data": {
      "image/png": "[encoded data removed]",
      "text/plain": [
       "<Figure size 1000x600 with 1 Axes>"
      ]
     },
     "metadata": {},
     "output_type": "display_data"
    }
   ],
   "source": [
    "count_words = graficar_frecuencia_palabras(l_entities)"
   ]
  },
  {
   "cell_type": "code",
   "execution_count": 80,
   "metadata": {},
   "outputs": [
    {
     "data": {
      "text/plain": [
       "{'Carolina Corcho': 2,\n",
       " 'Gustavo Petro': 4,\n",
       " 'Colombia': 16,\n",
       " 'WhatsApp': 1,\n",
       " 'Juliana': 1,\n",
       " 'Juan': 1,\n",
       " 'Pedro': 1,\n",
       " 'ADRES': 2,\n",
       " 'Corcho': 4,\n",
       " 'Liberal': 2,\n",
       " 'U': 1,\n",
       " 'Petro': 6,\n",
       " 'Congreso': 2,\n",
       " 'Conservador': 1,\n",
       " 'Alejandro Gaviria': 1,\n",
       " 'Tatiana': 2,\n",
       " 'La Silla Vacía': 1,\n",
       " 'Gustavo Morales': 1,\n",
       " 'Gustavo': 2,\n",
       " 'nosotras': 1,\n",
       " 'Jaime Ramírez': 1,\n",
       " 'César Gaviria': 2,\n",
       " 'Ministerio de Salud': 2,\n",
       " 'pandemia': 1,\n",
       " 'Aderes': 1,\n",
       " 'Seguro Social': 1,\n",
       " 'Bogotá': 8,\n",
       " 'Hospital San Pedro Claver': 1,\n",
       " 'Cuarto': 1,\n",
       " 'Salucop': 1,\n",
       " 'Protección Especial para los Enfermos de VIH-Sida': 1,\n",
       " 'Corte Constitucional': 2,\n",
       " 'Sabaneta': 1,\n",
       " 'Nicolás Petro': 1,\n",
       " 'enfermedades complejas': 1,\n",
       " 'Cruz Verde': 1,\n",
       " 'Audifarma': 1,\n",
       " 'Blockchain': 1,\n",
       " 'Zuckerberg': 1,\n",
       " 'Estados Unidos': 2,\n",
       " 'Pfff': 1,\n",
       " 'Hashtag': 1,\n",
       " 'Pacto Histórico': 1,\n",
       " 'Partido Conservador': 1,\n",
       " 'Queso': 1,\n",
       " 'Combo Puya Sencilla Royal': 1,\n",
       " 'Telegram': 1,\n",
       " 'Álvaro Uribe Vélez': 1,\n",
       " 'Antioquia': 1,\n",
       " 'Levi': 1,\n",
       " 'Teatro ABC': 1,\n",
       " 'Karen Abudin': 1,\n",
       " 'Karen Aguirre': 1,\n",
       " 'Carolina Cruz': 1,\n",
       " 'Abudinen': 1,\n",
       " 'Karen Abudinen': 1,\n",
       " 'Cate Miranda': 2,\n",
       " 'Yamida Amat no': 1,\n",
       " 'Jorge Bastidas': 1,\n",
       " 'Señora Juvinao': 1,\n",
       " 'J Fernández': 1,\n",
       " 'Noticias Capital': 1,\n",
       " 'Prieto': 1,\n",
       " 'Camilo Prieto': 1,\n",
       " 'Instituto Nacional de Cancerología': 1,\n",
       " 'Gobierno Nacional': 1,\n",
       " 'Chocó': 2,\n",
       " 'Doctor Prieto': 1,\n",
       " 'Congreso colombiano': 1,\n",
       " '1993': 1,\n",
       " 'Superintendencia de Salud': 1,\n",
       " 'Risaralda': 1,\n",
       " 'Organización Mundial de la Salud': 1,\n",
       " 'Velasco': 1,\n",
       " 'Félix': 1,\n",
       " 'Guillermo Alfonso Jaramillo': 1,\n",
       " 'Minas Hacienda': 1,\n",
       " 'Guajira': 1,\n",
       " 'Bosa': 1,\n",
       " 'Ciudad Bolívar': 1,\n",
       " 'Baltimore': 1,\n",
       " 'Universidad de Rosario': 1,\n",
       " 'Economía de la Salud': 1,\n",
       " 'Johns Hopkins': 1,\n",
       " 'Álvaro Uribe': 1,\n",
       " 'Sanitas': 2,\n",
       " 'cáncer': 1,\n",
       " 'Apartado': 1,\n",
       " 'Cali': 1,\n",
       " 'Cauca': 1,\n",
       " 'Medellín': 1,\n",
       " 'Putumayo': 2,\n",
       " 'Guainía': 1,\n",
       " 'Guaviare': 1,\n",
       " 'Nicolás Guzmán': 1,\n",
       " 'Kerali': 1,\n",
       " 'UPC': 1,\n",
       " 'Santiago': 2,\n",
       " 'Andrés': 1,\n",
       " 'Academia Nacional de Medicina': 1,\n",
       " 'Super': 1,\n",
       " 'Florencia': 1,\n",
       " 'China': 1,\n",
       " 'Italia': 1,\n",
       " 'Dante': 1,\n",
       " 'Beatrice': 1,\n",
       " 'México': 1,\n",
       " 'Chapinero': 1,\n",
       " 'OCDE': 1,\n",
       " 'estadio': 1,\n",
       " 'enfermedad': 1,\n",
       " 'Fuerza de la Salud': 1,\n",
       " 'Mauricio': 1,\n",
       " 'Joan': 1,\n",
       " 'Giovanni': 1,\n",
       " 'Amara.org': 1}"
      ]
     },
     "execution_count": 80,
     "metadata": {},
     "output_type": "execute_result"
    }
   ],
   "source": [
    "count_words"
   ]
  },
  {
   "cell_type": "code",
   "execution_count": null,
   "metadata": {},
   "outputs": [],
   "source": []
  }
 ],
 "metadata": {
  "kernelspec": {
   "display_name": "my_env",
   "language": "python",
   "name": "python3"
  },
  "language_info": {
   "codemirror_mode": {
    "name": "ipython",
    "version": 3
   },
   "file_extension": ".py",
   "mimetype": "text/x-python",
   "name": "python",
   "nbconvert_exporter": "python",
   "pygments_lexer": "ipython3",
   "version": "3.11.8"
  }
 },
 "nbformat": 4,
 "nbformat_minor": 2
}
