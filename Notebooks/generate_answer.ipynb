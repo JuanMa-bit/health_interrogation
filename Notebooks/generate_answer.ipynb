{
 "cells": [
  {
   "cell_type": "markdown",
   "metadata": {},
   "source": [
    "## Generando respuestas\n",
    "Este notebook tiene como objetivo leer uno o varios archivos generados en el notebook **explore_questions** con las estrategias mencionadas en el. Responderemos estas preguntas y diseñaremos promts que permitan responder desde el contexto de la reforma"
   ]
  },
  {
   "cell_type": "code",
   "execution_count": 1,
   "metadata": {},
   "outputs": [],
   "source": [
    "import os\n",
    "from llama_index.core.evaluation import DatasetGenerator, RelevancyEvaluator\n",
    "from llama_index.core import VectorStoreIndex, SimpleDirectoryReader\n",
    "from llama_index.core import VectorStoreIndex\n",
    "from llama_index.llms.gradient import GradientBaseModelLLM\n",
    "from llama_index.embeddings.gradient import GradientEmbedding\n",
    "from llama_index.core import set_global_service_context\n",
    "from llama_index.core import ServiceContext\n",
    "import pandas as pd\n",
    "import json\n",
    "from tqdm import tqdm"
   ]
  },
  {
   "cell_type": "code",
   "execution_count": 29,
   "metadata": {},
   "outputs": [],
   "source": [
    "import pickle"
   ]
  },
  {
   "cell_type": "code",
   "execution_count": 10,
   "metadata": {},
   "outputs": [],
   "source": [
    "with open(\"/Users/jucampo/Desktop/Ideas/youtube_audios/credentials.json\",\"r\") as credentials:\n",
    "    credentials_dict = json.load(credentials)\n",
    "os.environ[\"OPENAI_API_KEY\"] = credentials_dict['open_ai']\n",
    "os.environ['GRADIENT_ACCESS_TOKEN'] = credentials_dict['gradient']\n",
    "os.environ['GRADIENT_WORKSPACE_ID'] =  credentials_dict['gradient_id']"
   ]
  },
  {
   "cell_type": "code",
   "execution_count": 11,
   "metadata": {},
   "outputs": [],
   "source": [
    "llm = GradientBaseModelLLM(\n",
    "    base_model_slug=\"llama2-7b-chat\",\n",
    "    max_tokens=400,\n",
    ")"
   ]
  },
  {
   "cell_type": "code",
   "execution_count": null,
   "metadata": {},
   "outputs": [],
   "source": [
    "embed_model = GradientEmbedding(\n",
    "    gradient_access_token = os.environ[\"GRADIENT_ACCESS_TOKEN\"],\n",
    "    gradient_workspace_id = os.environ[\"GRADIENT_WORKSPACE_ID\"],\n",
    "    gradient_model_slug=\"bge-large\",\n",
    ")"
   ]
  },
  {
   "cell_type": "code",
   "execution_count": null,
   "metadata": {},
   "outputs": [],
   "source": [
    "service_context = ServiceContext.from_defaults(\n",
    "    llm = llm,\n",
    "    embed_model = embed_model,\n",
    "    chunk_size=256,\n",
    ")\n",
    "\n",
    "set_global_service_context(service_context)"
   ]
  },
  {
   "cell_type": "code",
   "execution_count": 25,
   "metadata": {},
   "outputs": [
    {
     "name": "stdout",
     "output_type": "stream",
     "text": [
      "Loaded 426 document(s).\n",
      "Loaded 291 document(s).\n",
      "Loaded 32 document(s).\n",
      "Loaded 103 document(s).\n"
     ]
    }
   ],
   "source": [
    "documents = SimpleDirectoryReader(\"/Users/jucampo/Desktop/Ideas/my_env/data/example_readers/reforma_salud/juntos\").load_data()\n",
    "print(f\"Loaded {len(documents)} document(s).\")\n",
    "documents1 = SimpleDirectoryReader(\"/Users/jucampo/Desktop/Ideas/my_env/data/example_readers/reforma_salud/original\").load_data()\n",
    "print(f\"Loaded {len(documents1)} document(s).\")\n",
    "documents2 = SimpleDirectoryReader(\"/Users/jucampo/Desktop/Ideas/my_env/data/example_readers/reforma_salud/cartilla\").load_data()\n",
    "print(f\"Loaded {len(documents2)} document(s).\")\n",
    "documents3 = SimpleDirectoryReader(\"/Users/jucampo/Desktop/Ideas/my_env/data/example_readers/reforma_salud/texto_definitivo\").load_data()\n",
    "print(f\"Loaded {len(documents3)} document(s).\")"
   ]
  },
  {
   "cell_type": "code",
   "execution_count": 27,
   "metadata": {},
   "outputs": [],
   "source": [
    "index = VectorStoreIndex.from_documents(documents,\n",
    "                                        service_context=service_context)\n",
    "query_engine = index.as_query_engine()"
   ]
  },
  {
   "cell_type": "code",
   "execution_count": 19,
   "metadata": {},
   "outputs": [],
   "source": [
    "index1 = VectorStoreIndex.from_documents(documents1,\n",
    "                                        service_context=service_context)\n",
    "query_engine1 = index1.as_query_engine()"
   ]
  },
  {
   "cell_type": "code",
   "execution_count": 20,
   "metadata": {},
   "outputs": [],
   "source": [
    "index2 = VectorStoreIndex.from_documents(documents2,\n",
    "                                        service_context=service_context)\n",
    "query_engine2 = index2.as_query_engine()"
   ]
  },
  {
   "cell_type": "code",
   "execution_count": 21,
   "metadata": {},
   "outputs": [],
   "source": [
    "index3 = VectorStoreIndex.from_documents(documents3,\n",
    "                                        service_context=service_context)\n",
    "query_engine3 = index3.as_query_engine()"
   ]
  },
  {
   "cell_type": "markdown",
   "metadata": {},
   "source": [
    "## Leemos los archivos limpiosde preguntas"
   ]
  },
  {
   "cell_type": "code",
   "execution_count": 30,
   "metadata": {},
   "outputs": [],
   "source": [
    "with open('/Users/jucampo/Desktop/Ideas/my_env/notebooks/random_q.pkl', 'rb') as archivo:\n",
    "    # Cargar el objeto desde el archivo\n",
    "    l_df_questions_label = pickle.load(archivo)"
   ]
  },
  {
   "cell_type": "code",
   "execution_count": 33,
   "metadata": {},
   "outputs": [
    {
     "data": {
      "text/plain": [
       "{'How does the document address the issue of healthcare access for rural or remote populations, and what are the proposed solutions to improve access?',\n",
       " 'What are some of the challenges associated with measuring effectiveness in healthcare, and how can they be addressed?',\n",
       " 'What are some potential challenges or limitations of implementing complementary healthcare systems, according to the author, and how can these be addressed?',\n",
       " 'What are the key areas of focus for the Proyecto Evaluación y Reestructuración de los Procesos, Estrategias y Organismos Públicos y Privados, according to the document?',\n",
       " 'What are the three key elements of continuous quality improvement, according to the authors of the article \"Continuous quality improvement: educating towards a culture of clinical governance\"?',\n",
       " \"What is the author's position on the relationship between the market and the containment of healthcare costs, and how does this relate to the overall efficiency of the healthcare system?\",\n",
       " 'What is the conceptual basis of health and health system performance, according to the passage?',\n",
       " 'What is the main financing mechanism in the Colombian healthcare system, according to the document?',\n",
       " 'What is the main purpose of the Programa de Apoyo a la Reforma de Salud in Colombia, according to the document?',\n",
       " 'What is the purpose of the document \"Marco Conceptual de Sistemas de Salud\" in relation to healthcare provision?'}"
      ]
     },
     "execution_count": 33,
     "metadata": {},
     "output_type": "execute_result"
    }
   ],
   "source": [
    "\n",
    "set(l_df_questions_label[0][\"questions\"])"
   ]
  },
  {
   "cell_type": "code",
   "execution_count": 28,
   "metadata": {},
   "outputs": [],
   "source": [
    "def aprox_pricing(response):\n",
    "    tokens = response.response.split()\n",
    "\n",
    "    # Contar el número de tokens\n",
    "    num_tokens = len(tokens)\n",
    "\n",
    "    print(\"Número de tokens:\", num_tokens)\n",
    "    print(\"pricing aprox:\", num_tokens*0.0001*4000)\n",
    "    return num_tokens"
   ]
  },
  {
   "cell_type": "code",
   "execution_count": 40,
   "metadata": {},
   "outputs": [],
   "source": [
    "\n",
    "q_0_0 = l_df_questions_label[0][\"questions\"][0]\n",
    "q_0_1  = l_df_questions_label[0][\"questions\"][1]"
   ]
  },
  {
   "cell_type": "code",
   "execution_count": 53,
   "metadata": {},
   "outputs": [
    {
     "data": {
      "text/html": [
       "<div>\n",
       "<style scoped>\n",
       "    .dataframe tbody tr th:only-of-type {\n",
       "        vertical-align: middle;\n",
       "    }\n",
       "\n",
       "    .dataframe tbody tr th {\n",
       "        vertical-align: top;\n",
       "    }\n",
       "\n",
       "    .dataframe thead th {\n",
       "        text-align: right;\n",
       "    }\n",
       "</style>\n",
       "<table border=\"1\" class=\"dataframe\">\n",
       "  <thead>\n",
       "    <tr style=\"text-align: right;\">\n",
       "      <th></th>\n",
       "      <th>questions</th>\n",
       "      <th>embeddings_mean</th>\n",
       "      <th>label_4</th>\n",
       "      <th>distance_centroids</th>\n",
       "      <th>level</th>\n",
       "    </tr>\n",
       "  </thead>\n",
       "  <tbody>\n",
       "    <tr>\n",
       "      <th>0</th>\n",
       "      <td>What is the main goal of the \"Proyecto Evaluac...</td>\n",
       "      <td>[-0.1621012470319069, 0.15285321504675917, -0....</td>\n",
       "      <td>0</td>\n",
       "      <td>0.0</td>\n",
       "      <td>0</td>\n",
       "    </tr>\n",
       "    <tr>\n",
       "      <th>1</th>\n",
       "      <td>What is the main objective of the Programa de ...</td>\n",
       "      <td>[-0.21453212617586057, -0.049616373516619204, ...</td>\n",
       "      <td>1</td>\n",
       "      <td>1.617482</td>\n",
       "      <td>2</td>\n",
       "    </tr>\n",
       "    <tr>\n",
       "      <th>2</th>\n",
       "      <td>What is the author's position on the relations...</td>\n",
       "      <td>[0.16202743230639277, -0.09692060806461282, -0...</td>\n",
       "      <td>2</td>\n",
       "      <td>1.927308</td>\n",
       "      <td>2</td>\n",
       "    </tr>\n",
       "    <tr>\n",
       "      <th>3</th>\n",
       "      <td>How does the document describe the main purpos...</td>\n",
       "      <td>[-0.09942214165268273, 0.044726147669656525, -...</td>\n",
       "      <td>3</td>\n",
       "      <td>0.0</td>\n",
       "      <td>0</td>\n",
       "    </tr>\n",
       "    <tr>\n",
       "      <th>4</th>\n",
       "      <td>How does the document address the issue of equ...</td>\n",
       "      <td>[0.23716902352221633, -0.17365308227422444, -0...</td>\n",
       "      <td>4</td>\n",
       "      <td>1.81464</td>\n",
       "      <td>2</td>\n",
       "    </tr>\n",
       "    <tr>\n",
       "      <th>5</th>\n",
       "      <td>How does the demand for healthcare services af...</td>\n",
       "      <td>[-0.000584186905104181, -0.26242404309627804, ...</td>\n",
       "      <td>5</td>\n",
       "      <td>1.873806</td>\n",
       "      <td>2</td>\n",
       "    </tr>\n",
       "    <tr>\n",
       "      <th>6</th>\n",
       "      <td>What is the relationship between the use of PI...</td>\n",
       "      <td>[0.28301494143903255, -0.15226855009794235, -0...</td>\n",
       "      <td>6</td>\n",
       "      <td>1.820577</td>\n",
       "      <td>2</td>\n",
       "    </tr>\n",
       "    <tr>\n",
       "      <th>7</th>\n",
       "      <td>What are some of the challenges that healthcar...</td>\n",
       "      <td>[0.2300226914906694, -0.2109784034471358, -0.1...</td>\n",
       "      <td>7</td>\n",
       "      <td>1.712071</td>\n",
       "      <td>2</td>\n",
       "    </tr>\n",
       "    <tr>\n",
       "      <th>8</th>\n",
       "      <td>What are the potential limitations of using ho...</td>\n",
       "      <td>[0.3896677957640754, -0.19142921655266373, -0....</td>\n",
       "      <td>8</td>\n",
       "      <td>1.918868</td>\n",
       "      <td>2</td>\n",
       "    </tr>\n",
       "    <tr>\n",
       "      <th>9</th>\n",
       "      <td>What is the relationship between continuous qu...</td>\n",
       "      <td>[0.22583956296809696, -0.057738541583107275, 0...</td>\n",
       "      <td>9</td>\n",
       "      <td>1.42697</td>\n",
       "      <td>2</td>\n",
       "    </tr>\n",
       "  </tbody>\n",
       "</table>\n",
       "</div>"
      ],
      "text/plain": [
       "                                           questions  \\\n",
       "0  What is the main goal of the \"Proyecto Evaluac...   \n",
       "1  What is the main objective of the Programa de ...   \n",
       "2  What is the author's position on the relations...   \n",
       "3  How does the document describe the main purpos...   \n",
       "4  How does the document address the issue of equ...   \n",
       "5  How does the demand for healthcare services af...   \n",
       "6  What is the relationship between the use of PI...   \n",
       "7  What are some of the challenges that healthcar...   \n",
       "8  What are the potential limitations of using ho...   \n",
       "9  What is the relationship between continuous qu...   \n",
       "\n",
       "                                     embeddings_mean label_4  \\\n",
       "0  [-0.1621012470319069, 0.15285321504675917, -0....       0   \n",
       "1  [-0.21453212617586057, -0.049616373516619204, ...       1   \n",
       "2  [0.16202743230639277, -0.09692060806461282, -0...       2   \n",
       "3  [-0.09942214165268273, 0.044726147669656525, -...       3   \n",
       "4  [0.23716902352221633, -0.17365308227422444, -0...       4   \n",
       "5  [-0.000584186905104181, -0.26242404309627804, ...       5   \n",
       "6  [0.28301494143903255, -0.15226855009794235, -0...       6   \n",
       "7  [0.2300226914906694, -0.2109784034471358, -0.1...       7   \n",
       "8  [0.3896677957640754, -0.19142921655266373, -0....       8   \n",
       "9  [0.22583956296809696, -0.057738541583107275, 0...       9   \n",
       "\n",
       "  distance_centroids level  \n",
       "0                0.0     0  \n",
       "1           1.617482     2  \n",
       "2           1.927308     2  \n",
       "3                0.0     0  \n",
       "4            1.81464     2  \n",
       "5           1.873806     2  \n",
       "6           1.820577     2  \n",
       "7           1.712071     2  \n",
       "8           1.918868     2  \n",
       "9            1.42697     2  "
      ]
     },
     "execution_count": 53,
     "metadata": {},
     "output_type": "execute_result"
    }
   ],
   "source": [
    "l_df_questions_label[-1]"
   ]
  },
  {
   "cell_type": "code",
   "execution_count": 57,
   "metadata": {},
   "outputs": [
    {
     "name": "stderr",
     "output_type": "stream",
     "text": [
      "100%|██████████| 10/10 [08:36<00:00, 51.67s/it]\n"
     ]
    }
   ],
   "source": [
    "l_q_a = []\n",
    "l_q_a_aux = []\n",
    "dict_q_a ={}\n",
    "for df_q in tqdm(l_df_questions_label):\n",
    "    for i_q in range(10):\n",
    "        question = df_q[\"questions\"][i_q]\n",
    "        dict_q_a[\"question_\"+str(i_q)]=question\n",
    "        try:\n",
    "            response = query_engine.query(question)\n",
    "            response = response.response\n",
    "        except Exception as e:\n",
    "            print(\"pregunta \"+str(i_q)+\" sin contestar\")\n",
    "            response = \" \"\n",
    "        dict_q_a[\"answer_\"+str(i_q)]=response\n",
    "\n",
    "    l_q_a.append(dict_q_a)"
   ]
  },
  {
   "cell_type": "code",
   "execution_count": 58,
   "metadata": {},
   "outputs": [
    {
     "data": {
      "text/plain": [
       "{'question_0': 'What is the main goal of the \"Proyecto Evaluación y Reestructuración de los Procesos, Estrategias y Organismos Públicos y Privados\" in relation to the health system?',\n",
       " 'answer_0': ' Based on the provided context information, the main goal of the \"Proyecto Evaluación y Reestructuración de los Procesos, Estrategias y Organismos Públicos y Privados\" in relation to the health system is to achieve agility, transparency, and modernization of the National Institute of Public Health (INVIMA) through a reorganization guided by principles of public innovation.\\n\\nThe project aims to strengthen the human and technological resource of INVIMA, improve cybersecurity, and optimize processes and procedures. Specifically, the project aims to make the registration of sanitary products indefinite with periodic and permanent monitoring, responding to the level of risk involved. Additionally, the project aims to automate modifications to the registration of sanitary products that do not affect the quality and safety of the product.\\n\\nOverall, the main goal of the project is to enhance the efficiency and effectiveness of INVIMA\\'s operations, with a focus on improving the health system\\'s overall performance and outcomes.',\n",
       " 'question_1': 'What is the main objective of the Programa de Apoyo a la Reforma de Salud in Colombia, according to the document?',\n",
       " 'answer_1': ' Based on the context information provided, the main objective of the Programa de Apoyo a la Reforma de Salud in Colombia is to guarantee the right to health through the development and regulation of the Ley 1751 of 2015. This is stated in the document as the \"propuesta de reglamentación y desarrollo de la Ley 1751 de 2015 para la garantía del derecho fundamental a la salud en Colombia\".',\n",
       " 'question_2': \"What is the author's position on the relationship between the market and the containment of healthcare costs, and how does this relate to the overall efficiency of the healthcare system?\",\n",
       " 'answer_2': \" Based on the additional context provided, the author's position on the relationship between the market and the containment of healthcare costs is even more strongly against the use of the market as a means of controlling costs. The author argues that the market is prone to rent-seeking behavior by both aseguradores and prestadores, who exploit the asymmetries in contracts to generate profits. The aseguradores use their authorization to modulate the offer and contain costs, while the prestadores shift the burden of high complexity and maintenance of an unresolved structure to the lower levels of the healthcare system.\\n\\nThe author's position on the overall efficiency of the healthcare system remains unchanged, as the lack of competition and regulation in the market continues to compromise the system's efficiency. The author notes that the market has reproduced vices of private logic, such as non-compliance with the theoretical framework of pluralism, and has not provided solutions to the system of healthcare, such as reducing intermediaries and promoting concentration in the market.\\n\\nIn summary, the author's position is that the market is not an effective means of containing healthcare costs and that the overall efficiency of the healthcare system is compromised by the lack of competition and regulation in the market. The author argues that the market perpetuates rent-seeking behavior and does not address the root causes of high healthcare costs.\",\n",
       " 'question_3': 'How does the document describe the main purpose of the document \"Marco Conceptual Sistemas de Salud- CAP 1\"?',\n",
       " 'answer_3': ' Based on the additional context provided, the main purpose of the document \"Marco Conceptual Sistemas de Salud- CAP 1\" can be further refined as follows:\\n\\nThe document aims to provide a comprehensive framework for the design and implementation of Primary Care Attention Programs (CAPs) in the context of the reform of the health system in Argentina, with a focus on addressing the inefficiencies in the current system and improving the quality and efficiency of health services. The document highlights the importance of considering the financial sustainability of CAPs, the need for auditories to ensure quality and efficiency, and the need to address the inefficiencies in the current health system, particularly the shift of responsibility for providing health services from the state to the private sector.\\n\\nThe document also emphasizes the need to address the lack of execution of health budgets by local entities and the centralization of control and power sancionatory by the Superintendency Nacional de Salud, which has not been exercised effectively. The document aims to provide a conceptual framework that can help improve the quality and efficiency of health services in Argentina by addressing these inefficiencies and ensuring that CAPs are designed and implemented effectively.\\n\\nIn summary, the main purpose of the document is to provide a comprehensive framework for the design and implementation of CAPs that can help improve the quality and efficiency of health services in Argentina by addressing the inefficiencies in the current health system and ensuring that local entities have the necessary authority and resources to execute health policy effectively.',\n",
       " 'question_4': 'How does the document address the issue of equity and access to healthcare, and what are the proposed solutions?',\n",
       " 'answer_4': ' Based on the provided context information, the document addresses the issue of equity and access to healthcare in several ways:\\n\\n1. The document highlights the existence of significant inequities in health outcomes across different regions and populations in Mexico, with some areas experiencing better health outcomes than others.\\n2. The document proposes the use of indicators to track the evolution of inequities in health outcomes over time, which can help identify areas that require more attention and resources to address the issue of equity.\\n3. The document suggests that the precarization of human talent in health and the growing debt to healthcare service providers are also contributing factors to the issue of equity in access to healthcare.\\n4. The document proposes solutions to address these issues, including:\\na. Orienting the priorities of healthcare training towards the needs of the population, with a focus on territorial and gender-specific specificities.\\nb. Generating incentives for students of health sciences to practice in rural, urban, and dispersed areas to reduce health disparities.\\nc. Increasing the availability of human talent in healthcare, particularly in areas with a shortage of health professionals.\\n\\nOverall, the document recognizes the issue of equity in access to healthcare in Mexico and proposes solutions to address it, including the use of indicators to track progress, orienting healthcare training towards population needs, and generating incentives for students of health sciences to practice in underserved areas.',\n",
       " 'question_5': 'How does the demand for healthcare services affect the financing of the system in Colombia, according to the document?',\n",
       " 'answer_5': \" According to the document, the demand for healthcare services in Colombia affects the financing of the system in several ways:\\n\\n1. Increased demand for healthcare services leads to an increase in the state's effort to increase the resources necessary to finance the system, as stated in page 100.\\n2. The state has made a collective effort to increase the sufficiency of the General Budget of the Nation to finance the system, as mentioned in page 132.\\n3. The document suggests that the improvement in the mechanisms of revenue collection, specifically the tax revenue destined to health, could help to increase the financing of the system, as stated in page 132.\\n4. The document also mentions the creation of innovative financing mechanisms, such as the tax on air tickets, transactions on currencies, and taxes on harmful food products, to increase the financing of the system, as stated in page 132.\\n\\nOverall, the demand for healthcare services in Colombia has a direct impact on the financing of the system, as the state must make additional efforts to provide the necessary resources to meet the demand.\",\n",
       " 'question_6': 'What is the relationship between the use of PIs and the management of health systems, according to the passage?',\n",
       " 'answer_6': \" Based on the new context provided, the relationship between the use of Primary Care Units (PIs) and the management of health systems can be further refined as follows:\\n\\nThe use of PIs is directly related to the management of health systems, particularly in the context of the Fondo Único Público para la Salud (FUPAS) and the UGPP. The FUPAS is responsible for managing the public health system's resources, while the UGPP is responsible for managing the pension and social security contributions. The confluence of these resources is managed by the Entidad Administradora de los Recursos del Sistema de Salud.\\n\\nTherefore, the use of PIs can help to improve the management of health systems by providing a framework for the coordination and integration of services, as well as promoting the use of best practices and standardized protocols. This can lead to improved quality and efficiency of care, as well as increased community participation in decision-making.\\n\\nIn summary, the use of PIs is an important aspect of health system management, particularly in the context of the FUPAS and the UGPP. It can help to improve the coordination and integration of services, increase the quality and efficiency of care, and promote community participation in decision-making.\",\n",
       " 'question_7': 'What are some of the challenges that healthcare providers may face when evaluating the effectiveness of their system of information, and how can these challenges be addressed?',\n",
       " 'answer_7': \" Based on the context information provided, some of the challenges that healthcare providers may face when evaluating the effectiveness of their system of information include:\\n\\n1. Lack of standardization: With multiple systems in place, it can be difficult to standardize data collection and analysis, leading to inconsistencies and inaccuracies in the evaluation process.\\n2. Limited interoperability: Different systems may not be able to communicate or share data effectively, making it challenging to obtain a comprehensive view of the system's performance.\\n3. Data quality issues: Poor data quality can lead to inaccurate evaluation results, making it difficult to identify areas for improvement.\\n4. Limited resources: Healthcare providers may not have the necessary resources, such as staff or technology, to effectively evaluate their system of information.\\n\\nTo address these challenges, healthcare providers can consider the following strategies:\\n\\n1. Standardize data collection and analysis: Develop standard operating procedures and data dictionaries to ensure consistency in data collection and analysis.\\n2. Implement interoperability solutions: Invest in interoperability solutions, such as data integration platforms or APIs, to enable seamless data sharing between systems.\\n3. Improve data quality: Implement data quality checks and validation processes to ensure that data is accurate and reliable.\\n4. Leverage technology: Utilize technology, such as data visualization tools or machine learning algorithms, to help analyze and interpret data more effectively.\\n5. Collaborate with stakeholders: Work with stakeholders, such as healthcare professionals or patients, to identify areas for improvement and ensure that the evaluation process is comprehensive and effective.\\n6. Continuously monitor and evaluate: Continuously monitor and evaluate the system of information to identify areas for improvement and ensure that it remains effective and efficient.\\n7. Use benchmark\",\n",
       " 'question_8': 'What are the potential limitations of using hospital-level data for measuring health system performance, and how can these limitations be addressed?',\n",
       " 'answer_8': \" Based on the additional context provided, here is a refined answer to the query:\\n\\nThe potential limitations of using hospital-level data for measuring health system performance include:\\n\\n1. Hospital-level data may not accurately reflect the performance of the broader health system: While hospital-level data can provide insights into the quality of care provided within individual hospitals, it may not capture the performance of the broader health system, including the quality of care provided in other hospitals or the availability of resources in the community.\\n2. Hospital-level data may be subject to bias: Hospital-level data may be biased towards hospitals that are more likely to be measured, such as those that are larger or more well-resourced. This can lead to an incomplete picture of health system performance and may overlook the experiences of marginalized populations.\\n3. Hospital-level data may not capture the experiences of marginalized populations: Hospital-level data may not accurately reflect the experiences of marginalized populations, such as those living in poverty or those who are uninsured. This can lead to a lack of understanding of the health system's impact on these populations and the need for targeted interventions.\\n4. Hospital-level data may not capture the impact of broader social and economic factors on health system performance: Hospital-level data may not capture the impact of broader social and economic factors, such as income inequality or unemployment, on health system performance. This can lead to a lack of understanding of the broader social and economic determinants of health and the need for policies and interventions that address these factors.\\n\\nTo address these limitations, the following strategies can be employed:\\n\\n1. Use of multi-level data: Using data from multiple levels, including hospital, regional, and national levels, can provide a more comprehensive picture of health system\",\n",
       " 'question_9': 'What is the relationship between continuous quality improvement and clinical governance, according to the authors of the article \"Continuous quality improvement: educating towards a culture of clinical governance\" in Qual Health Care?',\n",
       " 'answer_9': ' According to the authors of the article \"Continuous quality improvement: educating towards a culture of clinical governance\" in Qual Health Care, continuous quality improvement (CQI) and clinical governance are closely related concepts. In fact, the authors argue that CQI is an essential component of clinical governance.\\n\\nClinical governance refers to the systematic and continuous evaluation of the quality of healthcare services, with the aim of improving patient outcomes and safety. It involves the development and implementation of policies, procedures, and protocols that promote high-quality care, as well as the ongoing monitoring and evaluation of these processes.\\n\\nContinuous quality improvement, on the other hand, is a proactive approach to improving healthcare services by identifying and addressing quality issues on an ongoing basis. It involves the use of data and analytics to identify areas for improvement, the implementation of changes and interventions, and the ongoing monitoring and evaluation of these changes to ensure that they are effective.\\n\\nThe authors of the article argue that CQI is an essential component of clinical governance because it provides a structured approach to improving quality and safety. By using CQI methods, healthcare organizations can identify and address quality issues in a systematic and continuous manner, which can help to improve patient outcomes and safety.\\n\\nIn summary, the relationship between CQI and clinical governance is that CQI is a key component of clinical governance, providing a structured approach to improving quality and safety in healthcare services.'}"
      ]
     },
     "execution_count": 58,
     "metadata": {},
     "output_type": "execute_result"
    }
   ],
   "source": [
    "with open('random_q.pkl', 'wb') as f:\n",
    "    pickle.dump(l_q_a, f)"
   ]
  },
  {
   "cell_type": "code",
   "execution_count": null,
   "metadata": {},
   "outputs": [],
   "source": []
  }
 ],
 "metadata": {
  "kernelspec": {
   "display_name": "my_env",
   "language": "python",
   "name": "python3"
  },
  "language_info": {
   "codemirror_mode": {
    "name": "ipython",
    "version": 3
   },
   "file_extension": ".py",
   "mimetype": "text/x-python",
   "name": "python",
   "nbconvert_exporter": "python",
   "pygments_lexer": "ipython3",
   "version": "3.11.8"
  }
 },
 "nbformat": 4,
 "nbformat_minor": 2
}
